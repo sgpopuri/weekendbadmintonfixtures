{
 "cells": [
  {
   "cell_type": "code",
   "execution_count": 2,
   "metadata": {},
   "outputs": [
    {
     "name": "stdout",
     "output_type": "stream",
     "text": [
      "fixtures:\n",
      "a,c vs b,e\n",
      "a,d vs b,c\n",
      "a,d vs c,e\n"
     ]
    }
   ],
   "source": [
    "from itertools import combinations\n",
    "\n",
    "# plyaers should add their names here. Please don't modify other players or their \n",
    "#('player', amateur=1/above amateur=2/entry mid=3/mid=4/mid and above=5/advanced=6)\n",
    "player_list = [\n",
    "    ('a',1),\n",
    "    ('b',2),\n",
    "    ('c',3),\n",
    "    ('d',4),\n",
    "    ('e',2),\n",
    "]\n",
    "full_pairs = ((combinations(player_list,2)))\n",
    "dup_fixtures = ((combinations(full_pairs, 2)))\n",
    "full_fixtures = (x for x in dup_fixtures if not ((x[0][0] in x[1]) or (x[0][1] in x[1])))\n",
    "print(\"fixtures:\")\n",
    "bal_fixtures = [print(x[0][0][0] + \",\" + x[0][1][0] + \" vs \" + x[1][0][0] + \",\" + x[1][1][0]) for x in full_fixtures if (abs(x[0][0][1] + x[0][1][1] - x[1][0][1] - x[1][1][1]) < 1)]"
   ]
  },
  {
   "cell_type": "code",
   "execution_count": null,
   "metadata": {},
   "outputs": [],
   "source": []
  }
 ],
 "metadata": {
  "kernelspec": {
   "display_name": "Python 3",
   "language": "python",
   "name": "python3"
  },
  "language_info": {
   "codemirror_mode": {
    "name": "ipython",
    "version": 3
   },
   "file_extension": ".py",
   "mimetype": "text/x-python",
   "name": "python",
   "nbconvert_exporter": "python",
   "pygments_lexer": "ipython3",
   "version": "3.6.7"
  }
 },
 "nbformat": 4,
 "nbformat_minor": 2
}
